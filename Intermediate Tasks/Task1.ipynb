{
 "cells": [
  {
   "cell_type": "code",
   "execution_count": 1,
   "id": "5983ecf2",
   "metadata": {},
   "outputs": [],
   "source": [
    "import numpy as np\n",
    "from sklearn.datasets import load_iris\n",
    "from sklearn.model_selection import KFold, cross_val_score\n",
    "from sklearn.linear_model import LogisticRegression\n",
    "from sklearn.metrics import make_scorer, f1_score"
   ]
  },
  {
   "cell_type": "code",
   "execution_count": 2,
   "id": "c9fe98c3",
   "metadata": {},
   "outputs": [],
   "source": [
    "data = load_iris()\n",
    "X = data.data\n",
    "y = data.target"
   ]
  },
  {
   "cell_type": "code",
   "execution_count": 3,
   "id": "13b81aff",
   "metadata": {},
   "outputs": [],
   "source": [
    "model = LogisticRegression(max_iter=200)"
   ]
  },
  {
   "cell_type": "code",
   "execution_count": 4,
   "id": "7341f309",
   "metadata": {},
   "outputs": [],
   "source": [
    "k = 5\n",
    "kf = KFold(n_splits=k, shuffle=True, random_state=42)"
   ]
  },
  {
   "cell_type": "code",
   "execution_count": 5,
   "id": "5ffd3f60",
   "metadata": {},
   "outputs": [],
   "source": [
    "accuracy_scores = cross_val_score(model, X, y, cv=kf, scoring='accuracy')"
   ]
  },
  {
   "cell_type": "code",
   "execution_count": 6,
   "id": "a26835a5",
   "metadata": {},
   "outputs": [],
   "source": [
    "f1 = make_scorer(f1_score, average='macro')\n",
    "f1_scores = cross_val_score(model, X, y, cv=kf, scoring=f1)"
   ]
  },
  {
   "cell_type": "code",
   "execution_count": 16,
   "id": "2240a85b",
   "metadata": {},
   "outputs": [
    {
     "name": "stdout",
     "output_type": "stream",
     "text": [
      "\n",
      "=== Cross-Validation Evaluation Metrics ===\n",
      "\n",
      "Accuracy Scores (per fold):\n",
      "  Fold 1: 1.0000\n",
      "  Fold 2: 1.0000\n",
      "  Fold 3: 0.9333\n",
      "  Fold 4: 0.9667\n",
      "  Fold 5: 0.9667\n",
      "\n",
      "Mean Accuracy: 0.9733\n",
      "\n",
      "F1 Scores (per fold):\n",
      "  Fold 1: 1.0000\n",
      "  Fold 2: 1.0000\n",
      "  Fold 3: 0.9259\n",
      "  Fold 4: 0.9691\n",
      "  Fold 5: 0.9710\n",
      "\n",
      "Mean F1 Score: 0.9732\n"
     ]
    }
   ],
   "source": [
    "print(\"\\n=== Cross-Validation Evaluation Metrics ===\\n\")\n",
    "\n",
    "print(\"Accuracy Scores (per fold):\")\n",
    "for i, score in enumerate(accuracy_scores, 1):\n",
    "    print(f\"  Fold {i}: {score:.4f}\")\n",
    "print(f\"\\nMean Accuracy: {np.mean(accuracy_scores):.4f}\")\n",
    "\n",
    "print(\"\\nF1 Scores (per fold):\")\n",
    "for i, score in enumerate(f1_scores, 1):\n",
    "    print(f\"  Fold {i}: {score:.4f}\")\n",
    "print(f\"\\nMean F1 Score: {np.mean(f1_scores):.4f}\")\n"
   ]
  }
 ],
 "metadata": {
  "kernelspec": {
   "display_name": "Python 3",
   "language": "python",
   "name": "python3"
  },
  "language_info": {
   "codemirror_mode": {
    "name": "ipython",
    "version": 3
   },
   "file_extension": ".py",
   "mimetype": "text/x-python",
   "name": "python",
   "nbconvert_exporter": "python",
   "pygments_lexer": "ipython3",
   "version": "3.13.2"
  }
 },
 "nbformat": 4,
 "nbformat_minor": 5
}
